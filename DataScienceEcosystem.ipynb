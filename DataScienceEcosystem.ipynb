{
 "cells": [
  {
   "cell_type": "markdown",
   "id": "c5c44e55-a380-42f6-8083-f06d711f94bd",
   "metadata": {},
   "source": [
    "# Data Science Tools and Ecosystem"
   ]
  },
  {
   "cell_type": "markdown",
   "id": "e6f7a270-8067-4dde-9550-a1110e57836e",
   "metadata": {},
   "source": [
    "In this notebook, Data Science Tools and Ecosystem are summarized."
   ]
  },
  {
   "cell_type": "markdown",
   "id": "9c8b2622-2e98-4b1e-a090-88d0782f2ff2",
   "metadata": {},
   "source": [
    "Some of the popular languages that Data Scientists use are:"
   ]
  },
  {
   "cell_type": "markdown",
   "id": "6417e042-a5ab-4ce0-b702-decaa1700522",
   "metadata": {},
   "source": [
    "*Tamil\n",
    "*English\n",
    "*Hindi"
   ]
  },
  {
   "cell_type": "markdown",
   "id": "a63770ee-5d6c-42a0-bde2-958a96622231",
   "metadata": {},
   "source": [
    "### **Objectives:**"
   ]
  },
  {
   "cell_type": "markdown",
   "id": "21cc6254-ed03-48d9-9965-9fa7f9450724",
   "metadata": {},
   "source": [
    "List popular languages for Data Science\n",
    "- Python\n",
    "- R\n",
    "- SQL\n",
    "- Java Script\n",
    "- C/C++\n",
    "## Author\n",
    "Mohammed Arshath A"
   ]
  },
  {
   "cell_type": "markdown",
   "id": "1035c9b6-c51f-4a14-9317-4d2e3135ad29",
   "metadata": {},
   "source": [
    "Some of the commonly used libraries used by Data Scientists include:"
   ]
  },
  {
   "cell_type": "markdown",
   "id": "34e244bf-e129-4059-8387-a00e9b27d468",
   "metadata": {},
   "source": [
    "*matplotlib\n",
    "*pyplot\n",
    "*ggplot"
   ]
  },
  {
   "cell_type": "markdown",
   "id": "e921569f-7ef3-4057-bc86-8070f01a1439",
   "metadata": {},
   "source": [
    "#### Data Science Tools\n",
    "*Apache\n",
    "*RStudio\n",
    "*Tableau"
   ]
  },
  {
   "cell_type": "markdown",
   "id": "328de073-b424-4cec-953b-e02d19dcf369",
   "metadata": {},
   "source": [
    "### Below are a few examples of evaluating arithmetic expressions in Python"
   ]
  },
  {
   "cell_type": "code",
   "execution_count": 1,
   "id": "c9aada16-8d83-4926-ad2f-b3fb6f8e2192",
   "metadata": {
    "tags": []
   },
   "outputs": [
    {
     "name": "stdout",
     "output_type": "stream",
     "text": [
      "3.3333333333333335\n"
     ]
    }
   ],
   "source": [
    "#This will convert 200 minutes to hours by diving by 60\n",
    "a=200/60\n",
    "print(a)"
   ]
  },
  {
   "cell_type": "code",
   "execution_count": null,
   "id": "6bed79de-c165-495e-8405-9b248c25a9a5",
   "metadata": {},
   "outputs": [],
   "source": []
  }
 ],
 "metadata": {
  "kernelspec": {
   "display_name": "Python",
   "language": "python",
   "name": "conda-env-python-py"
  },
  "language_info": {
   "codemirror_mode": {
    "name": "ipython",
    "version": 3
   },
   "file_extension": ".py",
   "mimetype": "text/x-python",
   "name": "python",
   "nbconvert_exporter": "python",
   "pygments_lexer": "ipython3",
   "version": "3.7.12"
  }
 },
 "nbformat": 4,
 "nbformat_minor": 5
}
